{
 "cells": [
  {
   "cell_type": "markdown",
   "id": "addb6644",
   "metadata": {},
   "source": [
    "# Project: University clustering prediction model\n",
    "By: odubajo abdul qoyyum\n",
    "## Table of Contents\n",
    "<ul>\n",
    "    <li><a href=\"#intro\">Introduction</a></li>     \n",
    "    <li><a href=\"#assessing\">Data Assessing</a></li>  \n",
    "    <li><a href=\"#analysis\">EDA</a></li>\n",
    "    <li><a href=\"#conclusion\">data preparation and model building"
   ]
  },
  {
   "cell_type": "markdown",
   "id": "7dc1e230",
   "metadata": {},
   "source": [
    "### Introduction\n",
    "\n",
    "> For this project we will attempt to use KMeans Clustering to cluster Universities into to two groups, Private and Public.\n",
    "\n",
    "> We will use a data frame with 777 observations on the following 18 variables.\n",
    "* Private A factor with levels No and Yes indicating private or public university\n",
    "* Apps Number of applications received\n",
    "* Accept Number of applications accepted\n",
    "* Enroll Number of new students enrolled\n",
    "* Top10perc Pct. new students from top 10% of H.S. class\n",
    "* Top25perc Pct. new students from top 25% of H.S. class\n",
    "* F.Undergrad Number of fulltime undergraduates\n",
    "* P.Undergrad Number of parttime undergraduates\n",
    "* Outstate Out-of-state tuition\n",
    "* Room.Board Room and board costs\n",
    "* Books Estimated book costs\n",
    "* Personal Estimated personal spending\n",
    "* PhD Pct. of faculty with Ph.D.’s\n",
    "* Terminal Pct. of faculty with terminal degree\n",
    "* S.F.Ratio Student/faculty ratio\n",
    "* perc.alumni Pct. alumni who donate\n",
    "* Expend Instructional expenditure per student\n"
   ]
  },
  {
   "cell_type": "markdown",
   "id": "9dc44dbd",
   "metadata": {},
   "source": [
    "### Import all packages and set plots to be embedded inline"
   ]
  },
  {
   "cell_type": "code",
   "execution_count": 1,
   "id": "fa695c52",
   "metadata": {},
   "outputs": [],
   "source": [
    "import pandas as pd\n",
    "import numpy as np\n",
    "import matplotlib.pyplot as plt\n",
    "import seaborn as sns\n",
    "%matplotlib inline"
   ]
  },
  {
   "cell_type": "markdown",
   "id": "df29adab",
   "metadata": {},
   "source": [
    "### DATA ASSESSING"
   ]
  },
  {
   "cell_type": "code",
   "execution_count": 2,
   "id": "52d97384",
   "metadata": {},
   "outputs": [
    {
     "data": {
      "text/html": [
       "<div>\n",
       "<style scoped>\n",
       "    .dataframe tbody tr th:only-of-type {\n",
       "        vertical-align: middle;\n",
       "    }\n",
       "\n",
       "    .dataframe tbody tr th {\n",
       "        vertical-align: top;\n",
       "    }\n",
       "\n",
       "    .dataframe thead th {\n",
       "        text-align: right;\n",
       "    }\n",
       "</style>\n",
       "<table border=\"1\" class=\"dataframe\">\n",
       "  <thead>\n",
       "    <tr style=\"text-align: right;\">\n",
       "      <th></th>\n",
       "      <th>Private</th>\n",
       "      <th>Apps</th>\n",
       "      <th>Accept</th>\n",
       "      <th>Enroll</th>\n",
       "      <th>Top10perc</th>\n",
       "      <th>Top25perc</th>\n",
       "      <th>F.Undergrad</th>\n",
       "      <th>P.Undergrad</th>\n",
       "      <th>Outstate</th>\n",
       "      <th>Room.Board</th>\n",
       "      <th>Books</th>\n",
       "      <th>Personal</th>\n",
       "      <th>PhD</th>\n",
       "      <th>Terminal</th>\n",
       "      <th>S.F.Ratio</th>\n",
       "      <th>perc.alumni</th>\n",
       "      <th>Expend</th>\n",
       "      <th>Grad.Rate</th>\n",
       "    </tr>\n",
       "  </thead>\n",
       "  <tbody>\n",
       "    <tr>\n",
       "      <th>College of Saint Benedict</th>\n",
       "      <td>Yes</td>\n",
       "      <td>938</td>\n",
       "      <td>864</td>\n",
       "      <td>511</td>\n",
       "      <td>29</td>\n",
       "      <td>62</td>\n",
       "      <td>1715</td>\n",
       "      <td>103</td>\n",
       "      <td>12247</td>\n",
       "      <td>4221</td>\n",
       "      <td>500</td>\n",
       "      <td>600</td>\n",
       "      <td>70</td>\n",
       "      <td>88</td>\n",
       "      <td>13.1</td>\n",
       "      <td>26</td>\n",
       "      <td>8847</td>\n",
       "      <td>72</td>\n",
       "    </tr>\n",
       "    <tr>\n",
       "      <th>Lehigh University</th>\n",
       "      <td>Yes</td>\n",
       "      <td>6397</td>\n",
       "      <td>4304</td>\n",
       "      <td>1092</td>\n",
       "      <td>40</td>\n",
       "      <td>84</td>\n",
       "      <td>4298</td>\n",
       "      <td>132</td>\n",
       "      <td>18700</td>\n",
       "      <td>5580</td>\n",
       "      <td>750</td>\n",
       "      <td>1130</td>\n",
       "      <td>96</td>\n",
       "      <td>99</td>\n",
       "      <td>12.5</td>\n",
       "      <td>43</td>\n",
       "      <td>14665</td>\n",
       "      <td>91</td>\n",
       "    </tr>\n",
       "    <tr>\n",
       "      <th>Immaculata College</th>\n",
       "      <td>Yes</td>\n",
       "      <td>268</td>\n",
       "      <td>253</td>\n",
       "      <td>103</td>\n",
       "      <td>16</td>\n",
       "      <td>44</td>\n",
       "      <td>494</td>\n",
       "      <td>1305</td>\n",
       "      <td>10000</td>\n",
       "      <td>5364</td>\n",
       "      <td>500</td>\n",
       "      <td>1000</td>\n",
       "      <td>56</td>\n",
       "      <td>64</td>\n",
       "      <td>11.2</td>\n",
       "      <td>33</td>\n",
       "      <td>7305</td>\n",
       "      <td>69</td>\n",
       "    </tr>\n",
       "    <tr>\n",
       "      <th>Barat College</th>\n",
       "      <td>Yes</td>\n",
       "      <td>261</td>\n",
       "      <td>192</td>\n",
       "      <td>111</td>\n",
       "      <td>15</td>\n",
       "      <td>36</td>\n",
       "      <td>453</td>\n",
       "      <td>266</td>\n",
       "      <td>9690</td>\n",
       "      <td>4300</td>\n",
       "      <td>500</td>\n",
       "      <td>500</td>\n",
       "      <td>57</td>\n",
       "      <td>77</td>\n",
       "      <td>9.7</td>\n",
       "      <td>35</td>\n",
       "      <td>9337</td>\n",
       "      <td>71</td>\n",
       "    </tr>\n",
       "    <tr>\n",
       "      <th>Saint Joseph's University</th>\n",
       "      <td>Yes</td>\n",
       "      <td>2519</td>\n",
       "      <td>2003</td>\n",
       "      <td>776</td>\n",
       "      <td>39</td>\n",
       "      <td>71</td>\n",
       "      <td>2473</td>\n",
       "      <td>1314</td>\n",
       "      <td>12750</td>\n",
       "      <td>6350</td>\n",
       "      <td>350</td>\n",
       "      <td>1690</td>\n",
       "      <td>84</td>\n",
       "      <td>90</td>\n",
       "      <td>17.4</td>\n",
       "      <td>13</td>\n",
       "      <td>8243</td>\n",
       "      <td>83</td>\n",
       "    </tr>\n",
       "    <tr>\n",
       "      <th>Antioch University</th>\n",
       "      <td>Yes</td>\n",
       "      <td>713</td>\n",
       "      <td>661</td>\n",
       "      <td>252</td>\n",
       "      <td>25</td>\n",
       "      <td>44</td>\n",
       "      <td>712</td>\n",
       "      <td>23</td>\n",
       "      <td>15476</td>\n",
       "      <td>3336</td>\n",
       "      <td>400</td>\n",
       "      <td>1100</td>\n",
       "      <td>69</td>\n",
       "      <td>82</td>\n",
       "      <td>11.3</td>\n",
       "      <td>35</td>\n",
       "      <td>42926</td>\n",
       "      <td>48</td>\n",
       "    </tr>\n",
       "    <tr>\n",
       "      <th>University of Hawaii at Manoa</th>\n",
       "      <td>No</td>\n",
       "      <td>3580</td>\n",
       "      <td>2603</td>\n",
       "      <td>1627</td>\n",
       "      <td>36</td>\n",
       "      <td>69</td>\n",
       "      <td>11028</td>\n",
       "      <td>2411</td>\n",
       "      <td>4460</td>\n",
       "      <td>3038</td>\n",
       "      <td>687</td>\n",
       "      <td>1281</td>\n",
       "      <td>85</td>\n",
       "      <td>87</td>\n",
       "      <td>11.8</td>\n",
       "      <td>6</td>\n",
       "      <td>12833</td>\n",
       "      <td>54</td>\n",
       "    </tr>\n",
       "    <tr>\n",
       "      <th>North Adams State College</th>\n",
       "      <td>No</td>\n",
       "      <td>1563</td>\n",
       "      <td>1005</td>\n",
       "      <td>240</td>\n",
       "      <td>1</td>\n",
       "      <td>19</td>\n",
       "      <td>1380</td>\n",
       "      <td>136</td>\n",
       "      <td>5542</td>\n",
       "      <td>4330</td>\n",
       "      <td>500</td>\n",
       "      <td>1000</td>\n",
       "      <td>65</td>\n",
       "      <td>71</td>\n",
       "      <td>14.2</td>\n",
       "      <td>17</td>\n",
       "      <td>6562</td>\n",
       "      <td>57</td>\n",
       "    </tr>\n",
       "    <tr>\n",
       "      <th>Bethel College</th>\n",
       "      <td>Yes</td>\n",
       "      <td>502</td>\n",
       "      <td>384</td>\n",
       "      <td>104</td>\n",
       "      <td>11</td>\n",
       "      <td>28</td>\n",
       "      <td>347</td>\n",
       "      <td>74</td>\n",
       "      <td>6200</td>\n",
       "      <td>2900</td>\n",
       "      <td>600</td>\n",
       "      <td>800</td>\n",
       "      <td>63</td>\n",
       "      <td>63</td>\n",
       "      <td>11.7</td>\n",
       "      <td>13</td>\n",
       "      <td>7623</td>\n",
       "      <td>35</td>\n",
       "    </tr>\n",
       "    <tr>\n",
       "      <th>University of Charleston</th>\n",
       "      <td>Yes</td>\n",
       "      <td>682</td>\n",
       "      <td>535</td>\n",
       "      <td>204</td>\n",
       "      <td>22</td>\n",
       "      <td>43</td>\n",
       "      <td>771</td>\n",
       "      <td>611</td>\n",
       "      <td>9500</td>\n",
       "      <td>3540</td>\n",
       "      <td>400</td>\n",
       "      <td>750</td>\n",
       "      <td>26</td>\n",
       "      <td>58</td>\n",
       "      <td>2.5</td>\n",
       "      <td>10</td>\n",
       "      <td>7683</td>\n",
       "      <td>57</td>\n",
       "    </tr>\n",
       "  </tbody>\n",
       "</table>\n",
       "</div>"
      ],
      "text/plain": [
       "                              Private  Apps  Accept  Enroll  Top10perc  \\\n",
       "College of Saint Benedict         Yes   938     864     511         29   \n",
       "Lehigh University                 Yes  6397    4304    1092         40   \n",
       "Immaculata College                Yes   268     253     103         16   \n",
       "Barat College                     Yes   261     192     111         15   \n",
       "Saint Joseph's University         Yes  2519    2003     776         39   \n",
       "Antioch University                Yes   713     661     252         25   \n",
       "University of Hawaii at Manoa      No  3580    2603    1627         36   \n",
       "North Adams State College          No  1563    1005     240          1   \n",
       "Bethel College                    Yes   502     384     104         11   \n",
       "University of Charleston          Yes   682     535     204         22   \n",
       "\n",
       "                               Top25perc  F.Undergrad  P.Undergrad  Outstate  \\\n",
       "College of Saint Benedict             62         1715          103     12247   \n",
       "Lehigh University                     84         4298          132     18700   \n",
       "Immaculata College                    44          494         1305     10000   \n",
       "Barat College                         36          453          266      9690   \n",
       "Saint Joseph's University             71         2473         1314     12750   \n",
       "Antioch University                    44          712           23     15476   \n",
       "University of Hawaii at Manoa         69        11028         2411      4460   \n",
       "North Adams State College             19         1380          136      5542   \n",
       "Bethel College                        28          347           74      6200   \n",
       "University of Charleston              43          771          611      9500   \n",
       "\n",
       "                               Room.Board  Books  Personal  PhD  Terminal  \\\n",
       "College of Saint Benedict            4221    500       600   70        88   \n",
       "Lehigh University                    5580    750      1130   96        99   \n",
       "Immaculata College                   5364    500      1000   56        64   \n",
       "Barat College                        4300    500       500   57        77   \n",
       "Saint Joseph's University            6350    350      1690   84        90   \n",
       "Antioch University                   3336    400      1100   69        82   \n",
       "University of Hawaii at Manoa        3038    687      1281   85        87   \n",
       "North Adams State College            4330    500      1000   65        71   \n",
       "Bethel College                       2900    600       800   63        63   \n",
       "University of Charleston             3540    400       750   26        58   \n",
       "\n",
       "                               S.F.Ratio  perc.alumni  Expend  Grad.Rate  \n",
       "College of Saint Benedict           13.1           26    8847         72  \n",
       "Lehigh University                   12.5           43   14665         91  \n",
       "Immaculata College                  11.2           33    7305         69  \n",
       "Barat College                        9.7           35    9337         71  \n",
       "Saint Joseph's University           17.4           13    8243         83  \n",
       "Antioch University                  11.3           35   42926         48  \n",
       "University of Hawaii at Manoa       11.8            6   12833         54  \n",
       "North Adams State College           14.2           17    6562         57  \n",
       "Bethel College                      11.7           13    7623         35  \n",
       "University of Charleston             2.5           10    7683         57  "
      ]
     },
     "execution_count": 2,
     "metadata": {},
     "output_type": "execute_result"
    }
   ],
   "source": [
    "df_college = pd.read_csv('College_Data',index_col=0)\n",
    "df_college.sample(10)"
   ]
  },
  {
   "cell_type": "code",
   "execution_count": 3,
   "id": "513b8757",
   "metadata": {},
   "outputs": [
    {
     "name": "stdout",
     "output_type": "stream",
     "text": [
      "<class 'pandas.core.frame.DataFrame'>\n",
      "Index: 777 entries, Abilene Christian University to York College of Pennsylvania\n",
      "Data columns (total 18 columns):\n",
      " #   Column       Non-Null Count  Dtype  \n",
      "---  ------       --------------  -----  \n",
      " 0   Private      777 non-null    object \n",
      " 1   Apps         777 non-null    int64  \n",
      " 2   Accept       777 non-null    int64  \n",
      " 3   Enroll       777 non-null    int64  \n",
      " 4   Top10perc    777 non-null    int64  \n",
      " 5   Top25perc    777 non-null    int64  \n",
      " 6   F.Undergrad  777 non-null    int64  \n",
      " 7   P.Undergrad  777 non-null    int64  \n",
      " 8   Outstate     777 non-null    int64  \n",
      " 9   Room.Board   777 non-null    int64  \n",
      " 10  Books        777 non-null    int64  \n",
      " 11  Personal     777 non-null    int64  \n",
      " 12  PhD          777 non-null    int64  \n",
      " 13  Terminal     777 non-null    int64  \n",
      " 14  S.F.Ratio    777 non-null    float64\n",
      " 15  perc.alumni  777 non-null    int64  \n",
      " 16  Expend       777 non-null    int64  \n",
      " 17  Grad.Rate    777 non-null    int64  \n",
      "dtypes: float64(1), int64(16), object(1)\n",
      "memory usage: 115.3+ KB\n"
     ]
    }
   ],
   "source": [
    "df_college.info()"
   ]
  },
  {
   "cell_type": "markdown",
   "id": "02fb422a",
   "metadata": {},
   "source": [
    "###  Exploratory Data Analysis"
   ]
  },
  {
   "cell_type": "code",
   "execution_count": 4,
   "id": "55d6ae02",
   "metadata": {},
   "outputs": [
    {
     "name": "stderr",
     "output_type": "stream",
     "text": [
      "C:\\Users\\qoyyum\\anaconda3\\lib\\site-packages\\seaborn\\_decorators.py:36: FutureWarning: Pass the following variables as keyword args: x, y. From version 0.12, the only valid positional argument will be `data`, and passing other arguments without an explicit keyword will result in an error or misinterpretation.\n",
      "  warnings.warn(\n",
      "C:\\Users\\qoyyum\\anaconda3\\lib\\site-packages\\seaborn\\regression.py:581: UserWarning: The `size` parameter has been renamed to `height`; please update your code.\n",
      "  warnings.warn(msg, UserWarning)\n"
     ]
    },
    {
     "data": {
      "text/plain": [
       "<seaborn.axisgrid.FacetGrid at 0x2407fd9ca90>"
      ]
     },
     "execution_count": 4,
     "metadata": {},
     "output_type": "execute_result"
    },
    {
     "data": {
      "image/png": "[encoded data removed]",
      "text/plain": [
       "<Figure size 484x432 with 1 Axes>"
      ]
     },
     "metadata": {
      "needs_background": "light"
     },
     "output_type": "display_data"
    }
   ],
   "source": [
    "# creating a scatterplot of room board vs graduation rate for the private column\n",
    "\n",
    "sns.lmplot('Room.Board','Grad.Rate',data=df_college, palette= 'viridis', hue='Private',\n",
    "           size=6,aspect=1,fit_reg=False)"
   ]
  },
  {
   "cell_type": "code",
   "execution_count": 7,
   "id": "290ce955",
   "metadata": {},
   "outputs": [
    {
     "name": "stderr",
     "output_type": "stream",
     "text": [
      "C:\\Users\\qoyyum\\anaconda3\\lib\\site-packages\\seaborn\\regression.py:581: UserWarning: The `size` parameter has been renamed to `height`; please update your code.\n",
      "  warnings.warn(msg, UserWarning)\n"
     ]
    },
    {
     "data": {
      "text/plain": [
       "<seaborn.axisgrid.FacetGrid at 0x240015c79d0>"
      ]
     },
     "execution_count": 7,
     "metadata": {},
     "output_type": "execute_result"
    },
    {
     "data": {
      "image/png": "[encoded data removed]",
      "text/plain": [
       "<Figure size 484x432 with 1 Axes>"
      ]
     },
     "metadata": {
      "needs_background": "light"
     },
     "output_type": "display_data"
    }
   ],
   "source": [
    "# creating a scatterplot of of F.Undergrad versus Outstate colored by Private column\n",
    "\n",
    "sns.lmplot('Outstate','F.Undergrad',data=df_college, palette='viridis', \n",
    "           hue='Private', size=6,aspect=1,fit_reg=False)"
   ]
  },
  {
   "cell_type": "code",
   "execution_count": null,
   "id": "494bc56d",
   "metadata": {
    "scrolled": true
   },
   "outputs": [],
   "source": [
    "#creating an histogram for the graduation rate by private column\n",
    "\n",
    "g = sns.FacetGrid(df_college,hue=\"Private\",palette='viridis',size=6,aspect=2)\n",
    "g = g.map(plt.hist,'Grad.Rate',bins=20,alpha=0.7)"
   ]
  },
  {
   "cell_type": "markdown",
   "id": "98678d14",
   "metadata": {},
   "source": [
    "> there seems to be a private school with a graduation rate of higher than 100%. we will drop it"
   ]
  },
  {
   "cell_type": "code",
   "execution_count": null,
   "id": "c35733a5",
   "metadata": {},
   "outputs": [],
   "source": [
    "df_college=df_college[df_college['Grad.Rate'] <= 100]"
   ]
  },
  {
   "cell_type": "markdown",
   "id": "44be2c14",
   "metadata": {},
   "source": [
    "### Model building using KMeans"
   ]
  },
  {
   "cell_type": "code",
   "execution_count": null,
   "id": "043cee3d",
   "metadata": {},
   "outputs": [],
   "source": [
    "from sklearn.cluster import KMeans"
   ]
  },
  {
   "cell_type": "code",
   "execution_count": null,
   "id": "0ad09127",
   "metadata": {},
   "outputs": [],
   "source": [
    "model = KMeans(n_clusters=2)"
   ]
  },
  {
   "cell_type": "code",
   "execution_count": null,
   "id": "dfd9638c",
   "metadata": {},
   "outputs": [],
   "source": [
    "model.fit(df_college.drop('Private',axis=1))"
   ]
  },
  {
   "cell_type": "code",
   "execution_count": null,
   "id": "d2a26d19",
   "metadata": {},
   "outputs": [],
   "source": [
    "model.labels_"
   ]
  },
  {
   "cell_type": "code",
   "execution_count": null,
   "id": "b37af6fb",
   "metadata": {},
   "outputs": [],
   "source": []
  }
 ],
 "metadata": {
  "kernelspec": {
   "display_name": "Python 3.10.4 64-bit",
   "language": "python",
   "name": "python3"
  },
  "language_info": {
   "codemirror_mode": {
    "name": "ipython",
    "version": 3
   },
   "file_extension": ".py",
   "mimetype": "text/x-python",
   "name": "python",
   "nbconvert_exporter": "python",
   "pygments_lexer": "ipython3",
   "version": "3.10.4"
  },
  "vscode": {
   "interpreter": {
    "hash": "34aa2afa2841f77ac0139d817a848f527e87c0885a3b5ddc4c7c4f11b72180c6"
   }
  }
 },
 "nbformat": 4,
 "nbformat_minor": 5
}
